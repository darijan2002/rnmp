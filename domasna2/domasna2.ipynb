{
 "cells": [
  {
   "cell_type": "code",
   "id": "initial_id",
   "metadata": {
    "collapsed": true,
    "jupyter": {
     "is_executing": true
    }
   },
   "source": [
    "import findspark\n",
    "\n",
    "findspark.init()"
   ],
   "outputs": [],
   "execution_count": null
  },
  {
   "metadata": {
    "ExecuteTime": {
     "end_time": "2025-01-10T00:28:54.236863677Z",
     "start_time": "2025-01-10T00:22:00.566675Z"
    }
   },
   "cell_type": "code",
   "source": "findspark.find()",
   "id": "3ee205d4bc9abdeb",
   "outputs": [
    {
     "data": {
      "text/plain": [
       "'/home/dsekerov/finki/rnmp/spark-env/lib64/python3.10/site-packages/pyspark'"
      ]
     },
     "execution_count": 3,
     "metadata": {},
     "output_type": "execute_result"
    }
   ],
   "execution_count": 3
  },
  {
   "metadata": {
    "ExecuteTime": {
     "end_time": "2025-01-10T00:28:58.984758Z",
     "start_time": "2025-01-10T00:28:55.205353Z"
    }
   },
   "cell_type": "code",
   "source": [
    "from pyspark.sql import SparkSession\n",
    "\n",
    "spark = (SparkSession.builder\n",
    "         .appName(\"MovieLens-ALS\")\n",
    "         .config(\"spark.executor.extraJavaOptions\", \"-Ddev.ludovic.netlib.blas.nativeLib=libopenblas.so\")\n",
    "         .config(\"spark.driver.extraJavaOptions\", \"-Ddev.ludovic.netlib.blas.nativeLib=libopenblas.so\")\n",
    "         .getOrCreate())\n",
    "spark"
   ],
   "id": "810ef856182670b8",
   "outputs": [
    {
     "name": "stderr",
     "output_type": "stream",
     "text": [
      "Setting default log level to \"WARN\".\n",
      "To adjust logging level use sc.setLogLevel(newLevel). For SparkR, use setLogLevel(newLevel).\n",
      "25/01/10 01:28:57 WARN NativeCodeLoader: Unable to load native-hadoop library for your platform... using builtin-java classes where applicable\n"
     ]
    },
    {
     "data": {
      "text/plain": [
       "<pyspark.sql.session.SparkSession at 0x7f99d8547ac0>"
      ],
      "text/html": [
       "\n",
       "            <div>\n",
       "                <p><b>SparkSession - in-memory</b></p>\n",
       "                \n",
       "        <div>\n",
       "            <p><b>SparkContext</b></p>\n",
       "\n",
       "            <p><a href=\"http://fedora-vostro:4040\">Spark UI</a></p>\n",
       "\n",
       "            <dl>\n",
       "              <dt>Version</dt>\n",
       "                <dd><code>v3.5.4</code></dd>\n",
       "              <dt>Master</dt>\n",
       "                <dd><code>local[*]</code></dd>\n",
       "              <dt>AppName</dt>\n",
       "                <dd><code>MovieLens-ALS</code></dd>\n",
       "            </dl>\n",
       "        </div>\n",
       "        \n",
       "            </div>\n",
       "        "
      ]
     },
     "execution_count": 1,
     "metadata": {},
     "output_type": "execute_result"
    }
   ],
   "execution_count": 1
  },
  {
   "metadata": {
    "ExecuteTime": {
     "end_time": "2025-01-10T00:29:29.088957Z",
     "start_time": "2025-01-10T00:29:25.012955Z"
    }
   },
   "cell_type": "code",
   "source": [
    "movies_df = spark.read.options(header=True, inferSchema=True).csv(\"./ml-latest-small/movies.csv\")\n",
    "movies_df.printSchema()\n",
    "print(\"# of movies:\", (movies_df.count()))"
   ],
   "id": "41c3e2438c5f5f07",
   "outputs": [
    {
     "name": "stdout",
     "output_type": "stream",
     "text": [
      "root\n",
      " |-- movieId: integer (nullable = true)\n",
      " |-- title: string (nullable = true)\n",
      " |-- genres: string (nullable = true)\n",
      "\n",
      "# of movies: 9742\n"
     ]
    }
   ],
   "execution_count": 2
  },
  {
   "metadata": {
    "ExecuteTime": {
     "end_time": "2025-01-10T00:29:30.501556Z",
     "start_time": "2025-01-10T00:29:30.346438Z"
    }
   },
   "cell_type": "code",
   "source": "movies_df.show(5)",
   "id": "3cd5a435d2219737",
   "outputs": [
    {
     "name": "stdout",
     "output_type": "stream",
     "text": [
      "+-------+--------------------+--------------------+\n",
      "|movieId|               title|              genres|\n",
      "+-------+--------------------+--------------------+\n",
      "|      1|    Toy Story (1995)|Adventure|Animati...|\n",
      "|      2|      Jumanji (1995)|Adventure|Childre...|\n",
      "|      3|Grumpier Old Men ...|      Comedy|Romance|\n",
      "|      4|Waiting to Exhale...|Comedy|Drama|Romance|\n",
      "|      5|Father of the Bri...|              Comedy|\n",
      "+-------+--------------------+--------------------+\n",
      "only showing top 5 rows\n",
      "\n"
     ]
    }
   ],
   "execution_count": 3
  },
  {
   "metadata": {
    "ExecuteTime": {
     "end_time": "2025-01-10T00:38:40.420708Z",
     "start_time": "2025-01-10T00:38:40.139722Z"
    }
   },
   "cell_type": "code",
   "source": [
    "ratings_df = spark.read.options(inferSchema=True, delimiter=',', header=True).csv(\"./ml-latest-small/ratings.csv\")#.toDF(\"userId\", \"movieId\", \"rating\", \"timestamp\")\n",
    "ratings_df.printSchema()\n",
    "print(\"# of ratings:\", (ratings_df.count()))"
   ],
   "id": "eae84293fa1962b5",
   "outputs": [
    {
     "name": "stdout",
     "output_type": "stream",
     "text": [
      "root\n",
      " |-- userId: integer (nullable = true)\n",
      " |-- movieId: integer (nullable = true)\n",
      " |-- rating: double (nullable = true)\n",
      " |-- timestamp: integer (nullable = true)\n",
      "\n",
      "# of ratings: 100836\n"
     ]
    }
   ],
   "execution_count": 19
  },
  {
   "metadata": {
    "ExecuteTime": {
     "end_time": "2025-01-10T00:38:42.503327Z",
     "start_time": "2025-01-10T00:38:42.414184Z"
    }
   },
   "cell_type": "code",
   "source": "ratings_df.show(5)",
   "id": "f42f03e845118dc1",
   "outputs": [
    {
     "name": "stdout",
     "output_type": "stream",
     "text": [
      "+------+-------+------+---------+\n",
      "|userId|movieId|rating|timestamp|\n",
      "+------+-------+------+---------+\n",
      "|     1|      1|   4.0|964982703|\n",
      "|     1|      3|   4.0|964981247|\n",
      "|     1|      6|   4.0|964982224|\n",
      "|     1|     47|   5.0|964983815|\n",
      "|     1|     50|   5.0|964982931|\n",
      "+------+-------+------+---------+\n",
      "only showing top 5 rows\n",
      "\n"
     ]
    }
   ],
   "execution_count": 20
  },
  {
   "metadata": {
    "ExecuteTime": {
     "end_time": "2025-01-10T00:38:43.807210Z",
     "start_time": "2025-01-10T00:38:43.802995Z"
    }
   },
   "cell_type": "code",
   "source": "from pyspark.mllib.recommendation import ALS, MatrixFactorizationModel, Rating",
   "id": "ec1ac3390a19d7ea",
   "outputs": [],
   "execution_count": 21
  },
  {
   "metadata": {
    "ExecuteTime": {
     "end_time": "2025-01-10T00:38:44.383545Z",
     "start_time": "2025-01-10T00:38:44.354603Z"
    }
   },
   "cell_type": "code",
   "source": [
    "ratings_rdd = ratings_df.rdd.map(lambda x: Rating(x.userId, x.movieId, x.rating))\n",
    "ratings_rdd"
   ],
   "id": "ff9e34ba2d4d762",
   "outputs": [
    {
     "data": {
      "text/plain": [
       "PythonRDD[384] at RDD at PythonRDD.scala:53"
      ]
     },
     "execution_count": 22,
     "metadata": {},
     "output_type": "execute_result"
    }
   ],
   "execution_count": 22
  },
  {
   "metadata": {
    "ExecuteTime": {
     "end_time": "2025-01-10T00:38:47.031548Z",
     "start_time": "2025-01-10T00:38:44.485683Z"
    }
   },
   "cell_type": "code",
   "source": [
    "rank = 10\n",
    "numIterations = 10\n",
    "model = ALS.train(ratings_rdd, rank, numIterations)"
   ],
   "id": "2ee9b0f3544ca494",
   "outputs": [
    {
     "name": "stderr",
     "output_type": "stream",
     "text": [
      "                                                                                \r"
     ]
    }
   ],
   "execution_count": 23
  },
  {
   "metadata": {
    "ExecuteTime": {
     "end_time": "2025-01-10T00:38:51.422999Z",
     "start_time": "2025-01-10T00:38:47.092949Z"
    }
   },
   "cell_type": "code",
   "source": [
    "import math\n",
    "testdata = ratings_df.rdd.map(lambda p: (p[0], p[1]))\n",
    "predictions = model.predictAll(testdata).map(lambda r: ((r[0], r[1]), r[2]))\n",
    "ratesAndPreds = ratings_df.rdd.map(lambda r: ((r[0], r[1]), r[2])).join(predictions)\n",
    "MSE = ratesAndPreds.map(lambda r: (r[1][0] - r[1][1])**2).mean()\n",
    "MAE = ratesAndPreds.map(lambda r: abs(r[1][0] - r[1][1])).mean()\n",
    "print(f\"Mean Squared Error = {MSE:.4f}\")\n",
    "print(f\"Mean Absolute Error = {MAE:.4f}\")\n",
    "print(f\"Root Mean Squared Error = {math.sqrt(MSE):.4f}\")"
   ],
   "id": "bd94bbb0ecbf7dd9",
   "outputs": [
    {
     "name": "stderr",
     "output_type": "stream",
     "text": [
      "                                                                                \r"
     ]
    },
    {
     "name": "stdout",
     "output_type": "stream",
     "text": [
      "Mean Squared Error = 0.2585\n",
      "Mean Absolute Error = 0.3578\n",
      "Root Mean Squared Error = 0.5084\n"
     ]
    }
   ],
   "execution_count": 24
  },
  {
   "metadata": {
    "ExecuteTime": {
     "end_time": "2025-01-10T00:39:31.903064Z",
     "start_time": "2025-01-10T00:39:20.778041Z"
    }
   },
   "cell_type": "code",
   "source": [
    "from surprise import SVD\n",
    "from surprise import Dataset\n",
    "from surprise.model_selection import cross_validate\n",
    "\n",
    "# Load the movielens-100k dataset (download it if needed).\n",
    "data = Dataset.load_builtin('ml-100k')\n",
    "\n",
    "# Use the famous SVD algorithm.\n",
    "algo = SVD()\n",
    "\n",
    "# Run 5-fold cross-validation and print results.\n",
    "cross_validate(algo, data, measures=['RMSE', \"MSE\", 'MAE'], cv=5, verbose=True)"
   ],
   "id": "d0ab248514b03db3",
   "outputs": [
    {
     "name": "stdout",
     "output_type": "stream",
     "text": [
      "Evaluating RMSE, MSE, MAE of algorithm SVD on 5 split(s).\n",
      "\n",
      "                  Fold 1  Fold 2  Fold 3  Fold 4  Fold 5  Mean    Std     \n",
      "RMSE (testset)    0.9348  0.9303  0.9383  0.9397  0.9331  0.9352  0.0034  \n",
      "MSE (testset)     0.8739  0.8655  0.8804  0.8830  0.8707  0.8747  0.0064  \n",
      "MAE (testset)     0.7376  0.7335  0.7404  0.7403  0.7333  0.7370  0.0031  \n",
      "Fit time          2.03    1.94    1.93    2.14    1.92    1.99    0.08    \n",
      "Test time         0.19    0.06    0.06    0.06    0.06    0.09    0.05    \n"
     ]
    },
    {
     "data": {
      "text/plain": [
       "{'test_rmse': array([0.93480424, 0.93031173, 0.93830878, 0.93970164, 0.93309786]),\n",
       " 'test_mse': array([0.87385897, 0.86547991, 0.88042336, 0.88303916, 0.87067162]),\n",
       " 'test_mae': array([0.73756476, 0.73351913, 0.74037272, 0.74031465, 0.73330927]),\n",
       " 'fit_time': (2.0257320404052734,\n",
       "  1.943732500076294,\n",
       "  1.9330692291259766,\n",
       "  2.1449594497680664,\n",
       "  1.922614336013794),\n",
       " 'test_time': (0.1880037784576416,\n",
       "  0.06046557426452637,\n",
       "  0.061232566833496094,\n",
       "  0.06176471710205078,\n",
       "  0.06047391891479492)}"
      ]
     },
     "execution_count": 25,
     "metadata": {},
     "output_type": "execute_result"
    }
   ],
   "execution_count": 25
  },
  {
   "metadata": {},
   "cell_type": "code",
   "outputs": [],
   "execution_count": null,
   "source": "",
   "id": "cea63d44250da794"
  }
 ],
 "metadata": {
  "kernelspec": {
   "display_name": "Python 3",
   "language": "python",
   "name": "python3"
  },
  "language_info": {
   "codemirror_mode": {
    "name": "ipython",
    "version": 2
   },
   "file_extension": ".py",
   "mimetype": "text/x-python",
   "name": "python",
   "nbconvert_exporter": "python",
   "pygments_lexer": "ipython2",
   "version": "2.7.6"
  }
 },
 "nbformat": 4,
 "nbformat_minor": 5
}
